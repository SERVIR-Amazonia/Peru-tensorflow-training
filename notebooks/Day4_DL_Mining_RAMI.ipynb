{
  "nbformat": 4,
  "nbformat_minor": 0,
  "metadata": {
    "colab": {
      "provenance": []
    },
    "kernelspec": {
      "name": "python3",
      "display_name": "Python 3"
    },
    "language_info": {
      "name": "python"
    }
  },
  "cells": [
    {
      "cell_type": "markdown",
      "source": [
        "# Time Series Analysis using Deep Learning to map changes in illegal gold mining"
      ],
      "metadata": {
        "id": "YEDAvHcVjeN0"
      }
    },
    {
      "cell_type": "markdown",
      "source": [
        "## Exporting data from GEE to Google Drive"
      ],
      "metadata": {
        "id": "Ns7Z6ZeJ9uQH"
      }
    },
    {
      "cell_type": "code",
      "execution_count": 1,
      "metadata": {
        "colab": {
          "base_uri": "https://localhost:8080/"
        },
        "id": "p5TM1pSSg8SW",
        "outputId": "a828e7e0-f864-4b06-a3dd-4a981a4f4082"
      },
      "outputs": [
        {
          "output_type": "stream",
          "name": "stdout",
          "text": [
            "To authorize access needed by Earth Engine, open the following URL in a web browser and follow the instructions. If the web browser does not start automatically, please manually browse the URL below.\n",
            "\n",
            "    https://code.earthengine.google.com/client-auth?scopes=https%3A//www.googleapis.com/auth/earthengine%20https%3A//www.googleapis.com/auth/devstorage.full_control&request_id=-ggpvK5kdcYC8PVrzX9bF0Z7LIVPaFJ6rY5bPwxMh5E&tc=IcaYRVzJR_UXXloA4_68sDyqC9CvWXt1n81N_O96su4&cc=W8FVFBBrKN4xGzJhSi5xmknZddnx8QfPW0dX0dLdeIc\n",
            "\n",
            "The authorization workflow will generate a code, which you should paste in the box below.\n",
            "Enter verification code: 4/1Adeu5BVq4vrg2q35FOUqJalYgdomy52qZpBbDRzIrLNCU85yEIaaIHt_cSc\n",
            "\n",
            "Successfully saved authorization token.\n"
          ]
        }
      ],
      "source": [
        "# We will start importing the GEE library\n",
        "import ee\n",
        "ee.Authenticate()\n",
        "ee.Initialize()"
      ]
    },
    {
      "cell_type": "code",
      "source": [
        "# We will mount our Google Drive\n",
        "from google.colab import drive\n",
        "drive.mount('/content/drive')"
      ],
      "metadata": {
        "colab": {
          "base_uri": "https://localhost:8080/"
        },
        "id": "WLrO9kBD8Om8",
        "outputId": "786aad79-809c-4e7c-f51f-917e54061bcc"
      },
      "execution_count": 2,
      "outputs": [
        {
          "output_type": "stream",
          "name": "stdout",
          "text": [
            "Mounted at /content/drive\n"
          ]
        }
      ]
    },
    {
      "cell_type": "code",
      "source": [
        "# We will utilize TensorFlow for training the model\n",
        "import tensorflow as tf\n",
        "# Numpy to perform numerical operations\n",
        "import numpy as np\n",
        "# Time to quantify the amount of time the predictions tkae\n",
        "import time\n",
        "# Gdal to codify the final image\n",
        "from osgeo import gdal\n",
        "# Matplotlib to plot our results\n",
        "import matplotlib.pyplot as plt\n",
        "# We will print the current version of tensorflow\n",
        "print(tf.__version__)"
      ],
      "metadata": {
        "colab": {
          "base_uri": "https://localhost:8080/"
        },
        "id": "aLeLZ88IkjGm",
        "outputId": "02504004-e050-4dd5-bb75-7a6bdadd79d0"
      },
      "execution_count": 3,
      "outputs": [
        {
          "output_type": "stream",
          "name": "stdout",
          "text": [
            "2.12.0\n"
          ]
        }
      ]
    },
    {
      "cell_type": "code",
      "source": [
        "# We will load the feature collection that contains the data using the GEE API\n",
        "fc = ee.FeatureCollection('projects/ACCA-SERVIR/RAMI_DL/Annual_2022')\n",
        "\n",
        "# We will also import the Sentinel-1 collection\n",
        "s1 = ee.ImageCollection(\"COPERNICUS/S1_GRD\")"
      ],
      "metadata": {
        "id": "M0R8djCzlgmd"
      },
      "execution_count": 4,
      "outputs": []
    },
    {
      "cell_type": "code",
      "source": [
        "# We will print the loaded feature collection\n",
        "print(fc.size().getInfo())"
      ],
      "metadata": {
        "colab": {
          "base_uri": "https://localhost:8080/"
        },
        "id": "dUQBVXWBukPR",
        "outputId": "df3c8491-bad9-41ab-f5cf-2a944db529e5"
      },
      "execution_count": 5,
      "outputs": [
        {
          "output_type": "stream",
          "name": "stdout",
          "text": [
            "300\n"
          ]
        }
      ]
    },
    {
      "cell_type": "code",
      "source": [
        "# We will filter the confirmed mining points\n",
        "filteredFC = fc.filter([ee.Filter.eq('Mining', 'Yes'), ee.Filter.eq('Confimad', 'YES')])\n",
        "print(filteredFC.size().getInfo())\n",
        "print(filteredFC.first().getInfo())"
      ],
      "metadata": {
        "colab": {
          "base_uri": "https://localhost:8080/"
        },
        "id": "ioh-U0ePu5hq",
        "outputId": "75776ced-019f-4877-e5f9-f3b8a6e63c11"
      },
      "execution_count": 6,
      "outputs": [
        {
          "output_type": "stream",
          "name": "stdout",
          "text": [
            "62\n",
            "{'type': 'Feature', 'geometry': {'type': 'Point', 'coordinates': [-70.58795315873886, -12.840382802492218]}, 'id': '000000000000000000cc', 'properties': {'Confimad': 'YES', 'Date': 40, 'Fecha': 1620198000000, 'Imagery': 'Planet NICFI', 'Mes_Imagen': '', 'Mining': 'Yes', 'lat': -12.840383923911821}}\n"
          ]
        }
      ]
    },
    {
      "cell_type": "code",
      "source": [
        "# Now we will create a function that will be mapped into our feature collection\n",
        "def getImgCol (feat):\n",
        "  imgDate = ee.Date(feat.get('Fecha'))\n",
        "  filtered = s1.filter([ee.Filter.bounds(feat.geometry()),\n",
        "                        ee.Filter.date(imgDate.advance(-2, 'month'), imgDate.advance(1, 'day')),\n",
        "                        ee.Filter.eq('relativeOrbitNumber_start', 149),\n",
        "                        ee.Filter.eq('orbitProperties_pass', 'ASCENDING')]).select(['VV', 'VH'])\n",
        "  listFiltered = filtered.toList(3, 3)\n",
        "  arrayCol = ee.Algorithms.If(ee.Number(listFiltered.size()).eq(3),\n",
        "                              ee.ImageCollection(listFiltered).toArrayPerBand()\n",
        "                              .set('imgID_1', ee.Image(listFiltered.get(0)).get('system:index'))\n",
        "                              .set('imgID_2', ee.Image(listFiltered.get(1)).get('system:index'))\n",
        "                              .set('imgID_3', ee.Image(listFiltered.get(2)).get('system:index')),\n",
        "                              None)\n",
        "  return arrayCol"
      ],
      "metadata": {
        "id": "BebhmjLNvd6l"
      },
      "execution_count": 7,
      "outputs": []
    },
    {
      "cell_type": "code",
      "source": [
        "# We will apply the created function to our feature collection\n",
        "imgCol = filteredFC.map(getImgCol, True)\n",
        "print(imgCol.size().getInfo())\n",
        "print(imgCol.first().getInfo())"
      ],
      "metadata": {
        "colab": {
          "base_uri": "https://localhost:8080/"
        },
        "id": "aF9OvXfrw1sn",
        "outputId": "9e780261-c6c3-475a-bbdc-15a6aad84c50"
      },
      "execution_count": 8,
      "outputs": [
        {
          "output_type": "stream",
          "name": "stdout",
          "text": [
            "43\n",
            "{'type': 'Image', 'bands': [{'id': 'VV', 'data_type': {'type': 'PixelType', 'precision': 'double', 'dimensions': 1}, 'crs': 'EPSG:4326', 'crs_transform': [1, 0, 0, 0, 1, 0]}, {'id': 'VH', 'data_type': {'type': 'PixelType', 'precision': 'double', 'dimensions': 1}, 'crs': 'EPSG:4326', 'crs_transform': [1, 0, 0, 0, 1, 0]}], 'properties': {'imgID_1': 'S1B_IW_GRDH_1SDV_20210411T230820_20210411T230845_026425_032797_776D', 'imgID_2': 'S1B_IW_GRDH_1SDV_20210423T230821_20210423T230846_026600_032D36_6C17', 'imgID_3': 'S1B_IW_GRDH_1SDV_20210505T230821_20210505T230846_026775_0332CE_F1CB', 'system:index': '000000000000000000cc'}}\n"
          ]
        }
      ]
    },
    {
      "cell_type": "code",
      "source": [
        "# Now we will create another function that will set the label\n",
        "def setLabel (feat):\n",
        "  index = feat.get('system:index')\n",
        "  condition = ee.Algorithms.If(imgCol.filter(ee.Filter.eq('system:index', index)).size().eq(1), feat, None)\n",
        "  return condition"
      ],
      "metadata": {
        "id": "5JV94JtzxVcC"
      },
      "execution_count": 9,
      "outputs": []
    },
    {
      "cell_type": "code",
      "source": [
        "# We will map the created function to our feature collection\n",
        "finalFC = filteredFC.map(setLabel, True)\n",
        "print(finalFC.size().getInfo())\n",
        "print(finalFC.first().getInfo())"
      ],
      "metadata": {
        "colab": {
          "base_uri": "https://localhost:8080/"
        },
        "id": "h_hpJW3Sx2Bo",
        "outputId": "d573991d-8fc0-4dd7-862c-6b20c58eb716"
      },
      "execution_count": 10,
      "outputs": [
        {
          "output_type": "stream",
          "name": "stdout",
          "text": [
            "43\n",
            "{'type': 'Feature', 'geometry': {'type': 'Point', 'coordinates': [-70.58795315873886, -12.840382802492218]}, 'id': '000000000000000000cc', 'properties': {'Confimad': 'YES', 'Date': 40, 'Fecha': 1620198000000, 'Imagery': 'Planet NICFI', 'Mes_Imagen': '', 'Mining': 'Yes', 'lat': -12.840383923911821}}\n"
          ]
        }
      ]
    },
    {
      "cell_type": "code",
      "source": [
        "print(finalFC.first().getInfo())"
      ],
      "metadata": {
        "colab": {
          "base_uri": "https://localhost:8080/"
        },
        "id": "g1K55Jmv2ffn",
        "outputId": "8b258840-458a-4456-b182-76d237d0edf0"
      },
      "execution_count": 11,
      "outputs": [
        {
          "output_type": "stream",
          "name": "stdout",
          "text": [
            "{'type': 'Feature', 'geometry': {'type': 'Point', 'coordinates': [-70.58795315873886, -12.840382802492218]}, 'id': '000000000000000000cc', 'properties': {'Confimad': 'YES', 'Date': 40, 'Fecha': 1620198000000, 'Imagery': 'Planet NICFI', 'Mes_Imagen': '', 'Mining': 'Yes', 'lat': -12.840383923911821}}\n"
          ]
        }
      ]
    },
    {
      "cell_type": "code",
      "source": [
        "# Now we will create another function to sample\n",
        "def sampling (feat):\n",
        "  index = feat.get('system:index')\n",
        "  selected = imgCol.filter(ee.Filter.eq('system:index', index)).first()\n",
        "  sample = ee.Image(selected).sampleRegions(**{\n",
        "      \"collection\": ee.FeatureCollection(feat),\n",
        "      \"scale\": 10,\n",
        "      \"projection\": 'EPSG:32719',\n",
        "      \"geometries\": False\n",
        "      }).first().copyProperties(ee.Image(selected)).set('label', ee.Array([[0],[0],[1]]))\n",
        "  return sample"
      ],
      "metadata": {
        "id": "9tZ-vBGuy4YZ"
      },
      "execution_count": 12,
      "outputs": []
    },
    {
      "cell_type": "code",
      "source": [
        "# We will map the function, to obtain points\n",
        "samplePoints = finalFC.map(sampling).randomColumn()\n",
        "print(samplePoints.first().getInfo())"
      ],
      "metadata": {
        "colab": {
          "base_uri": "https://localhost:8080/"
        },
        "id": "koAwa34T1Rcs",
        "outputId": "5a7a9850-ed3b-4a72-a830-aa6c979680d7"
      },
      "execution_count": 13,
      "outputs": [
        {
          "output_type": "stream",
          "name": "stdout",
          "text": [
            "{'type': 'Feature', 'geometry': None, 'id': '000000000000000000cc', 'properties': {'Confimad': 'YES', 'Date': 40, 'Fecha': 1620198000000, 'Imagery': 'Planet NICFI', 'Mes_Imagen': '', 'Mining': 'Yes', 'VH': [-17.710720414755848, -14.099343448271425, -16.19333393541844], 'VV': [-6.028237031206864, -12.006012553928688, -7.994074031706704], 'imgID_1': 'S1B_IW_GRDH_1SDV_20210411T230820_20210411T230845_026425_032797_776D', 'imgID_2': 'S1B_IW_GRDH_1SDV_20210423T230821_20210423T230846_026600_032D36_6C17', 'imgID_3': 'S1B_IW_GRDH_1SDV_20210505T230821_20210505T230846_026775_0332CE_F1CB', 'label': [[0], [0], [1]], 'lat': -12.840383923911821, 'random': 0.18291975204489874}}\n"
          ]
        }
      ]
    },
    {
      "cell_type": "code",
      "source": [
        "# Now we will define our train, test and validation datasets\n",
        "train_data = samplePoints.filter(ee.Filter.lte('random', 0.70))\n",
        "val_data = samplePoints.filter(ee.Filter.And(ee.Filter.gt('random', 0.70), ee.Filter.lte('random', 0.90)))\n",
        "test_data = samplePoints.filter(ee.Filter.gt('random', 0.90))\n",
        "\n",
        "print('Train: ', train_data.size().getInfo())\n",
        "print('Val: ', val_data.size().getInfo())\n",
        "print('Test: ', test_data.size().getInfo())"
      ],
      "metadata": {
        "colab": {
          "base_uri": "https://localhost:8080/"
        },
        "id": "UW_RdyX94ezJ",
        "outputId": "dde7d857-32cd-47fb-cee6-7ac7bd7dc653"
      },
      "execution_count": 14,
      "outputs": [
        {
          "output_type": "stream",
          "name": "stdout",
          "text": [
            "Train:  36\n",
            "Val:  5\n",
            "Test:  2\n"
          ]
        }
      ]
    },
    {
      "cell_type": "code",
      "source": [
        "# Time to export our data to Google Drive!\n",
        "csvTask = ee.batch.Export.table.toDrive(**{\n",
        "    \"collection\": samplePoints,\n",
        "    \"description\": 'RAMI_LSTM_Data',\n",
        "    \"folder\": 'RAMI_DL',\n",
        "    \"fileNamePrefix\": 'RAMI_DL_Data',\n",
        "    \"fileFormat\": 'CSV'\n",
        "})\n",
        "trainTask = ee.batch.Export.table.toDrive(**{\n",
        "    \"collection\": train_data,\n",
        "    \"description\": 'RAMI_LSTM_Train',\n",
        "    \"folder\": 'RAMI_DL',\n",
        "    \"fileNamePrefix\": 'RAMI_DL_Train',\n",
        "    \"fileFormat\": 'TFRecord',\n",
        "    \"selectors\": ['VV', 'VH', 'label']\n",
        "})\n",
        "valTask = ee.batch.Export.table.toDrive(**{\n",
        "    \"collection\": val_data,\n",
        "    \"description\": 'RAMI_LSTM_Validation',\n",
        "    \"folder\": 'RAMI_DL',\n",
        "    \"fileNamePrefix\": 'RAMI_DL_Val',\n",
        "    \"fileFormat\": 'TFRecord',\n",
        "    \"selectors\": ['VV', 'VH', 'label']\n",
        "})\n",
        "testTask = ee.batch.Export.table.toDrive(**{\n",
        "    \"collection\": test_data,\n",
        "    \"description\": 'RAMI_LSTM_Test',\n",
        "    \"folder\": 'RAMI_DL',\n",
        "    \"fileNamePrefix\": 'RAMI_DL_Test',\n",
        "    \"fileFormat\": 'TFRecord',\n",
        "    \"selectors\": ['VV', 'VH', 'label']\n",
        "})"
      ],
      "metadata": {
        "id": "gUlo7_OV47il"
      },
      "execution_count": 15,
      "outputs": []
    },
    {
      "cell_type": "code",
      "source": [
        "# Now that our tasks are define, let's run them!\n",
        "# It will take less than 2 minutes to export our data to Google Drive\n",
        "csvTask.start()\n",
        "trainTask.start()\n",
        "valTask.start()\n",
        "testTask.start()"
      ],
      "metadata": {
        "id": "TqU6FllR5hQ9"
      },
      "execution_count": 16,
      "outputs": []
    },
    {
      "cell_type": "markdown",
      "source": [
        "## Exporting a small image to perform predictions"
      ],
      "metadata": {
        "id": "eGuGqHlGFk-J"
      }
    },
    {
      "cell_type": "code",
      "source": [
        "# We will also export an image stack, to later perform predictions\n",
        "imgID_1 = ee.Image('COPERNICUS/S1_GRD/S1A_IW_GRDH_1SDV_20220903T230939_20220903T231004_044846_055B25_AEB4')\n",
        "imgID_2 = ee.Image('COPERNICUS/S1_GRD/S1A_IW_GRDH_1SDV_20220915T230939_20220915T231004_045021_056104_BADE')\n",
        "imgID_3 = ee.Image('COPERNICUS/S1_GRD/S1A_IW_GRDH_1SDV_20220927T230939_20220927T231004_045196_0566E9_0748')\n",
        "imgRdy = ee.ImageCollection([imgID_1, imgID_2, imgID_3]).select(['VV', 'VH']).toArray()\n",
        "print(imgRdy.getInfo())"
      ],
      "metadata": {
        "colab": {
          "base_uri": "https://localhost:8080/"
        },
        "id": "je3xu6YAE2Q5",
        "outputId": "91a605a3-5097-4c87-c339-0f000f945196"
      },
      "execution_count": 17,
      "outputs": [
        {
          "output_type": "stream",
          "name": "stdout",
          "text": [
            "{'type': 'Image', 'bands': [{'id': 'array', 'data_type': {'type': 'PixelType', 'precision': 'double', 'dimensions': 2}, 'crs': 'EPSG:4326', 'crs_transform': [1, 0, 0, 0, 1, 0]}]}\n"
          ]
        }
      ]
    },
    {
      "cell_type": "code",
      "source": [
        "# We will define a small area to export our image\n",
        "aoi = ee.Geometry.Polygon(\n",
        "    [[[-70.56601423180955, -12.824993905786748],\n",
        "      [-70.56601423180955, -12.84189860414036],\n",
        "      [-70.54176706231492, -12.84189860414036],\n",
        "      [-70.54176706231492, -12.824993905786748]]], None, False);\n",
        "print(aoi.getInfo())"
      ],
      "metadata": {
        "colab": {
          "base_uri": "https://localhost:8080/"
        },
        "id": "9qXk-3LLFTaB",
        "outputId": "eb265282-5991-41b2-822a-317e3390ebf2"
      },
      "execution_count": 18,
      "outputs": [
        {
          "output_type": "stream",
          "name": "stdout",
          "text": [
            "{'geodesic': False, 'type': 'Polygon', 'coordinates': [[[-70.56601423180955, -12.84189860414036], [-70.54176706231492, -12.84189860414036], [-70.54176706231492, -12.824993905786748], [-70.56601423180955, -12.824993905786748], [-70.56601423180955, -12.84189860414036]]]}\n"
          ]
        }
      ]
    },
    {
      "cell_type": "code",
      "source": [
        "# We will clip the resulting image to our area of interest and export it and use arrayFlatten\n",
        "exportImg = imgRdy.clip(aoi).arrayFlatten([['img_2', 'img_1', 'img_0'], ['VV', 'VH']])\n",
        "print(exportImg.getInfo())\n",
        "print(exportImg.bandNames().getInfo())"
      ],
      "metadata": {
        "colab": {
          "base_uri": "https://localhost:8080/"
        },
        "id": "VztLexDkFjvm",
        "outputId": "92c2bd73-4325-4c29-a2af-e6acf1e835d4"
      },
      "execution_count": 19,
      "outputs": [
        {
          "output_type": "stream",
          "name": "stdout",
          "text": [
            "{'type': 'Image', 'bands': [{'id': 'img_2_VV', 'data_type': {'type': 'PixelType', 'precision': 'double'}, 'dimensions': [1, 1], 'origin': [-71, -13], 'crs': 'EPSG:4326', 'crs_transform': [1, 0, 0, 0, 1, 0]}, {'id': 'img_2_VH', 'data_type': {'type': 'PixelType', 'precision': 'double'}, 'dimensions': [1, 1], 'origin': [-71, -13], 'crs': 'EPSG:4326', 'crs_transform': [1, 0, 0, 0, 1, 0]}, {'id': 'img_1_VV', 'data_type': {'type': 'PixelType', 'precision': 'double'}, 'dimensions': [1, 1], 'origin': [-71, -13], 'crs': 'EPSG:4326', 'crs_transform': [1, 0, 0, 0, 1, 0]}, {'id': 'img_1_VH', 'data_type': {'type': 'PixelType', 'precision': 'double'}, 'dimensions': [1, 1], 'origin': [-71, -13], 'crs': 'EPSG:4326', 'crs_transform': [1, 0, 0, 0, 1, 0]}, {'id': 'img_0_VV', 'data_type': {'type': 'PixelType', 'precision': 'double'}, 'dimensions': [1, 1], 'origin': [-71, -13], 'crs': 'EPSG:4326', 'crs_transform': [1, 0, 0, 0, 1, 0]}, {'id': 'img_0_VH', 'data_type': {'type': 'PixelType', 'precision': 'double'}, 'dimensions': [1, 1], 'origin': [-71, -13], 'crs': 'EPSG:4326', 'crs_transform': [1, 0, 0, 0, 1, 0]}]}\n",
            "['img_2_VV', 'img_2_VH', 'img_1_VV', 'img_1_VH', 'img_0_VV', 'img_0_VH']\n"
          ]
        }
      ]
    },
    {
      "cell_type": "code",
      "source": [
        "# Time to export the image!\n",
        "imgTask = ee.batch.Export.image.toDrive(**{\n",
        "    \"image\": exportImg,\n",
        "    \"description\": 'RAMI_LSTM_IMG',\n",
        "    \"folder\": 'RAMI_DL',\n",
        "    \"fileNamePrefix\": 'RAMI_DL_Img',\n",
        "    \"region\": aoi,\n",
        "    \"scale\": 10,\n",
        "    \"crs\": 'EPSG:32719',\n",
        "    \"maxPixels\": 1e12,\n",
        "    \"fileFormat\": 'GeoTIFF'\n",
        "})\n",
        "imgTask.start()"
      ],
      "metadata": {
        "id": "bPut84eOGTJ0"
      },
      "execution_count": 20,
      "outputs": []
    },
    {
      "cell_type": "markdown",
      "source": [
        "## Model Training"
      ],
      "metadata": {
        "id": "37K8GJyp9z3t"
      }
    },
    {
      "cell_type": "code",
      "source": [
        "# First we will create a dictionary to parse our fixed-length input features\n",
        "features_dict = {\n",
        "    'VV': tf.io.FixedLenFeature([3], tf.float32),\n",
        "    'VH': tf.io.FixedLenFeature([3], tf.float32),\n",
        "    'label': tf.io.FixedLenFeature([3], tf.float32),\n",
        "}"
      ],
      "metadata": {
        "id": "6aVhOgYG91wS"
      },
      "execution_count": 21,
      "outputs": []
    },
    {
      "cell_type": "code",
      "source": [
        "# Now we will define our variables\n",
        "bands = ['VV', 'VH']\n",
        "response = ['label']\n",
        "features = bands + response"
      ],
      "metadata": {
        "id": "WiLfwJcJ-Jar"
      },
      "execution_count": 22,
      "outputs": []
    },
    {
      "cell_type": "code",
      "source": [
        "# We will also define the sizes of our datasets\n",
        "train_size = 35\n",
        "val_size = 7\n",
        "test_size = 1"
      ],
      "metadata": {
        "id": "liCk7VLs-YZ6"
      },
      "execution_count": 23,
      "outputs": []
    },
    {
      "cell_type": "code",
      "source": [
        "# And the paths as well\n",
        "train_path = '/content/drive/MyDrive/RAMI_DL/RAMI_DL_Train.tfrecord.gz'\n",
        "val_path = '/content/drive/MyDrive/RAMI_DL/RAMI_DL_Val.tfrecord.gz'\n",
        "test_path = '/content/drive/MyDrive/RAMI_DL/RAMI_DL_Test.tfrecord.gz'"
      ],
      "metadata": {
        "id": "TwrBTfJt-cxg"
      },
      "execution_count": 24,
      "outputs": []
    },
    {
      "cell_type": "code",
      "source": [
        "# Now we will incorporate our data into a TFRecordDataset\n",
        "train_data = tf.data.TFRecordDataset(train_path, compression_type = 'GZIP')\n",
        "val_data = tf.data.TFRecordDataset(val_path, compression_type = 'GZIP')\n",
        "test_data = tf.data.TFRecordDataset(test_path, compression_type = 'GZIP')"
      ],
      "metadata": {
        "id": "EeV7TCqH-tNH"
      },
      "execution_count": 25,
      "outputs": []
    },
    {
      "cell_type": "code",
      "source": [
        "# We can print our train data\n",
        "print(train_data)"
      ],
      "metadata": {
        "colab": {
          "base_uri": "https://localhost:8080/"
        },
        "id": "XyEmnR9V-0lC",
        "outputId": "26459007-8952-4f20-c16b-20055cbd5eb4"
      },
      "execution_count": 26,
      "outputs": [
        {
          "output_type": "stream",
          "name": "stdout",
          "text": [
            "<TFRecordDatasetV2 element_spec=TensorSpec(shape=(), dtype=tf.string, name=None)>\n"
          ]
        }
      ]
    },
    {
      "cell_type": "code",
      "source": [
        "# Now we will define a function to parse our TFRecord\n",
        "def parse_tfrecord(example_proto):\n",
        "    return tf.io.parse_single_example(example_proto, features_dict)"
      ],
      "metadata": {
        "id": "qDeBTSPX-8ei"
      },
      "execution_count": 27,
      "outputs": []
    },
    {
      "cell_type": "code",
      "source": [
        "# This function will be applied to our datasets\n",
        "train_data_parsed = train_data.map(parse_tfrecord)\n",
        "val_data_parsed = val_data.map(parse_tfrecord)\n",
        "test_data_parsed = test_data.map(parse_tfrecord)"
      ],
      "metadata": {
        "id": "DL_Y3Q4F_BKK"
      },
      "execution_count": 28,
      "outputs": []
    },
    {
      "cell_type": "code",
      "source": [
        "# After parsing the data we can now see the shape of our datasets\n",
        "print(train_data_parsed)"
      ],
      "metadata": {
        "colab": {
          "base_uri": "https://localhost:8080/"
        },
        "id": "F3pZLM35_Dpx",
        "outputId": "51a36e0f-583b-447b-de06-645cf70fd5de"
      },
      "execution_count": 29,
      "outputs": [
        {
          "output_type": "stream",
          "name": "stdout",
          "text": [
            "<_MapDataset element_spec={'VH': TensorSpec(shape=(3,), dtype=tf.float32, name=None), 'VV': TensorSpec(shape=(3,), dtype=tf.float32, name=None), 'label': TensorSpec(shape=(3,), dtype=tf.float32, name=None)}>\n"
          ]
        }
      ]
    },
    {
      "cell_type": "code",
      "source": [
        "# We will also apply a shuffle to our train dataset, add a single batch and repeat for the train and validation dataset\n",
        "train_data_rpt = train_data_parsed.shuffle(1).batch(1).repeat()\n",
        "val_data_rpt = val_data_parsed.shuffle(1).batch(1).repeat()\n",
        "test_data_rpt = test_data_parsed.batch(1)"
      ],
      "metadata": {
        "id": "aupAQ_0i_QMx"
      },
      "execution_count": 30,
      "outputs": []
    },
    {
      "cell_type": "code",
      "source": [
        "# We can see that our MapDataset has changed to RepeatDataset\n",
        "print(train_data_rpt)"
      ],
      "metadata": {
        "colab": {
          "base_uri": "https://localhost:8080/"
        },
        "id": "HdmRJFuj_XVW",
        "outputId": "e61e57a8-3ed5-4870-f5c3-267d0b084a53"
      },
      "execution_count": 31,
      "outputs": [
        {
          "output_type": "stream",
          "name": "stdout",
          "text": [
            "<_RepeatDataset element_spec={'VH': TensorSpec(shape=(None, 3), dtype=tf.float32, name=None), 'VV': TensorSpec(shape=(None, 3), dtype=tf.float32, name=None), 'label': TensorSpec(shape=(None, 3), dtype=tf.float32, name=None)}>\n"
          ]
        }
      ]
    },
    {
      "cell_type": "code",
      "source": [
        "# Now we have to create a function to transform our data to tuple\n",
        "def to_tuple(inputs):\n",
        "    inputsList = [inputs.get(key) for key in features]\n",
        "    stacked = tf.stack(inputsList, axis=0)\n",
        "    return tf.transpose(stacked[:2, :3], [1, 2, 0]), tf.transpose(tf.expand_dims(stacked[2, :3], axis = 0), [1, 2, 0])"
      ],
      "metadata": {
        "id": "JQXYlsUv_b5p"
      },
      "execution_count": 32,
      "outputs": []
    },
    {
      "cell_type": "code",
      "source": [
        "# And we can see the new shape of our data (Notice that it follows the pattern: Batch, Time step, Features)\n",
        "train_data_rdy = train_data_rpt.map(to_tuple)\n",
        "val_data_rdy = val_data_rpt.map(to_tuple)\n",
        "test_data_rdy = test_data_rpt.map(to_tuple)\n",
        "print(train_data_rdy)"
      ],
      "metadata": {
        "colab": {
          "base_uri": "https://localhost:8080/"
        },
        "id": "s--8TbAW_wcO",
        "outputId": "59b9935e-3bd3-4241-c75e-765e620fcce3"
      },
      "execution_count": 33,
      "outputs": [
        {
          "output_type": "stream",
          "name": "stdout",
          "text": [
            "<_MapDataset element_spec=(TensorSpec(shape=(None, 3, 2), dtype=tf.float32, name=None), TensorSpec(shape=(None, 3, 1), dtype=tf.float32, name=None))>\n"
          ]
        }
      ]
    },
    {
      "cell_type": "code",
      "source": [
        "# We can take a look at a single training data\n",
        "print(train_data_rdy.take(1).get_single_element())"
      ],
      "metadata": {
        "colab": {
          "base_uri": "https://localhost:8080/"
        },
        "id": "fPkI51rw_2bO",
        "outputId": "6e62e2eb-dfa5-4a72-9a9d-1fd8d7b5ea92"
      },
      "execution_count": 34,
      "outputs": [
        {
          "output_type": "stream",
          "name": "stdout",
          "text": [
            "(<tf.Tensor: shape=(1, 3, 2), dtype=float32, numpy=\n",
            "array([[[ -6.028237, -17.71072 ],\n",
            "        [-12.006013, -14.099343],\n",
            "        [ -7.994074, -16.193335]]], dtype=float32)>, <tf.Tensor: shape=(1, 3, 1), dtype=float32, numpy=\n",
            "array([[[0.],\n",
            "        [0.],\n",
            "        [1.]]], dtype=float32)>)\n"
          ]
        }
      ]
    },
    {
      "cell_type": "code",
      "source": [
        "# Now we can begin building our model\n",
        "inputs = tf.keras.layers.Input([3, 2], name='array')\n",
        "x = tf.keras.layers.LSTM(32, return_sequences = True, name = \"lstm_layer_1\", activation = \"relu\") (inputs)\n",
        "x = tf.keras.layers.LSTM(32, return_sequences = False, name = \"lstm_layer_2\", activation = \"relu\") (x)\n",
        "outputs = tf.keras.layers.Dense(3, activation = \"sigmoid\", name = \"output_layer\") (x)"
      ],
      "metadata": {
        "id": "XXTdtKDxApVw"
      },
      "execution_count": 35,
      "outputs": []
    },
    {
      "cell_type": "code",
      "source": [
        "# Now we will compile the model\n",
        "model = tf.keras.models.Model(inputs = [inputs], outputs = [outputs], name = \"lstmNet\")\n",
        "model.compile(optimizer = tf.keras.optimizers.Adam(learning_rate = 0.001),\n",
        "              loss = tf.keras.losses.BinaryCrossentropy(),\n",
        "              metrics = [tf.keras.metrics.MeanSquaredError()])"
      ],
      "metadata": {
        "id": "ooi4RnK0AwwG"
      },
      "execution_count": 36,
      "outputs": []
    },
    {
      "cell_type": "code",
      "source": [
        "# And we can start the training! Feel free to change some hyperparameters!\n",
        "history = model.fit(\n",
        "    x = train_data_rdy,\n",
        "    epochs = 10,\n",
        "    verbose = 2,\n",
        "    steps_per_epoch = 1,\n",
        "    validation_data = val_data_rdy,\n",
        "    validation_steps = 1)"
      ],
      "metadata": {
        "colab": {
          "base_uri": "https://localhost:8080/"
        },
        "id": "AwnBtHhtA1FO",
        "outputId": "5a0de67f-84e6-4646-b09e-72deb0526bee"
      },
      "execution_count": 37,
      "outputs": [
        {
          "output_type": "stream",
          "name": "stdout",
          "text": [
            "Epoch 1/10\n",
            "1/1 - 5s - loss: 0.8521 - mean_squared_error: 0.3279 - val_loss: 0.8487 - val_mean_squared_error: 0.3262 - 5s/epoch - 5s/step\n",
            "Epoch 2/10\n",
            "1/1 - 0s - loss: 0.8368 - mean_squared_error: 0.3204 - val_loss: 0.8246 - val_mean_squared_error: 0.3147 - 47ms/epoch - 47ms/step\n",
            "Epoch 3/10\n",
            "1/1 - 0s - loss: 0.7758 - mean_squared_error: 0.2910 - val_loss: 0.8032 - val_mean_squared_error: 0.3043 - 41ms/epoch - 41ms/step\n",
            "Epoch 4/10\n",
            "1/1 - 0s - loss: 0.8171 - mean_squared_error: 0.3106 - val_loss: 0.7832 - val_mean_squared_error: 0.2945 - 40ms/epoch - 40ms/step\n",
            "Epoch 5/10\n",
            "1/1 - 0s - loss: 0.7798 - mean_squared_error: 0.2929 - val_loss: 0.7650 - val_mean_squared_error: 0.2856 - 45ms/epoch - 45ms/step\n",
            "Epoch 6/10\n",
            "1/1 - 0s - loss: 0.7572 - mean_squared_error: 0.2818 - val_loss: 0.7482 - val_mean_squared_error: 0.2773 - 49ms/epoch - 49ms/step\n",
            "Epoch 7/10\n",
            "1/1 - 0s - loss: 0.7302 - mean_squared_error: 0.2685 - val_loss: 0.7323 - val_mean_squared_error: 0.2695 - 45ms/epoch - 45ms/step\n",
            "Epoch 8/10\n",
            "1/1 - 0s - loss: 0.7035 - mean_squared_error: 0.2552 - val_loss: 0.7178 - val_mean_squared_error: 0.2623 - 51ms/epoch - 51ms/step\n",
            "Epoch 9/10\n",
            "1/1 - 0s - loss: 0.7116 - mean_squared_error: 0.2592 - val_loss: 0.7039 - val_mean_squared_error: 0.2554 - 43ms/epoch - 43ms/step\n",
            "Epoch 10/10\n",
            "1/1 - 0s - loss: 0.6840 - mean_squared_error: 0.2456 - val_loss: 0.6904 - val_mean_squared_error: 0.2487 - 43ms/epoch - 43ms/step\n"
          ]
        }
      ]
    },
    {
      "cell_type": "code",
      "source": [
        "# Time to plot our results!\n",
        "%pylab inline\n",
        "fig, ax = plt.subplots(nrows=2, sharex=True, figsize=(15,10))\n",
        "\n",
        "ax[0].plot(history.history['loss'],color='#1f77b4',label='Training Loss')\n",
        "ax[0].plot(history.history['val_loss'],linestyle=':',marker='o',markersize=3,color='#1f77b4',label='Validation Loss')\n",
        "ax[0].set_ylabel('Loss')\n",
        "ax[0].set_ylim(0.0,1)\n",
        "ax[0].legend()\n",
        "\n",
        "ax[1].plot(history.history['mean_squared_error'],color='#E5D31F',label='Training MSE')\n",
        "ax[1].plot(history.history['val_mean_squared_error'],linestyle=':',marker='o',markersize=3,color='#E5D31F',label='Validation MSE')\n",
        "ax[1].set_ylabel('MSE')\n",
        "ax[1].legend(loc=\"lower right\")\n",
        "\n",
        "ax[1].set_xticks(history.epoch)\n",
        "ax[1].set_xticklabels(range(1,len(history.epoch)+1, 1))\n",
        "ax[1].set_xlabel('Epoch')\n",
        "ax[1].set_ylim(0.0,1)\n",
        "\n",
        "plt.legend()"
      ],
      "metadata": {
        "colab": {
          "base_uri": "https://localhost:8080/",
          "height": 890
        },
        "id": "PjsDbIxIA3sq",
        "outputId": "f00809a6-368b-4287-b4b3-10d43640f5d8"
      },
      "execution_count": 38,
      "outputs": [
        {
          "output_type": "stream",
          "name": "stdout",
          "text": [
            "Populating the interactive namespace from numpy and matplotlib\n"
          ]
        },
        {
          "output_type": "execute_result",
          "data": {
            "text/plain": [
              "<matplotlib.legend.Legend at 0x7afbf407cb50>"
            ]
          },
          "metadata": {},
          "execution_count": 38
        },
        {
          "output_type": "display_data",
          "data": {
            "text/plain": [
              "<Figure size 1500x1000 with 2 Axes>"
            ],
            "image/png": "[encoded data removed]"
          },
          "metadata": {}
        }
      ]
    },
    {
      "cell_type": "code",
      "source": [
        "# Time to evaluate the model\n",
        "eval = model.evaluate(\n",
        "    x = test_data_rdy,\n",
        "    verbose = 2,\n",
        "    steps = 1)"
      ],
      "metadata": {
        "colab": {
          "base_uri": "https://localhost:8080/"
        },
        "id": "Xhd11HO-A_Na",
        "outputId": "fd99cf40-d148-4592-f88d-5a20b12f388e"
      },
      "execution_count": 39,
      "outputs": [
        {
          "output_type": "stream",
          "name": "stdout",
          "text": [
            "1/1 - 1s - loss: 0.6700 - mean_squared_error: 0.2385 - 712ms/epoch - 712ms/step\n"
          ]
        }
      ]
    },
    {
      "cell_type": "code",
      "source": [
        "# And to perform a prediction on our test dataset\n",
        "pred = model.predict(\n",
        "    x = test_data_rdy,\n",
        "    verbose = 2,\n",
        "    steps = 1\n",
        ")"
      ],
      "metadata": {
        "colab": {
          "base_uri": "https://localhost:8080/"
        },
        "id": "ueXQY9RJCabF",
        "outputId": "fceacdce-66d2-4aaf-e887-2033e4c2422e"
      },
      "execution_count": 40,
      "outputs": [
        {
          "output_type": "stream",
          "name": "stdout",
          "text": [
            "1/1 - 1s - 581ms/epoch - 581ms/step\n"
          ]
        }
      ]
    },
    {
      "cell_type": "code",
      "source": [
        "# We can print the content of our test dataset\n",
        "print(test_data_rdy.take(1).get_single_element())"
      ],
      "metadata": {
        "colab": {
          "base_uri": "https://localhost:8080/"
        },
        "id": "-xUIQOVuCebi",
        "outputId": "8c8c113a-314c-4f97-fa17-19a8dcca9bc6"
      },
      "execution_count": 41,
      "outputs": [
        {
          "output_type": "stream",
          "name": "stdout",
          "text": [
            "(<tf.Tensor: shape=(1, 3, 2), dtype=float32, numpy=\n",
            "array([[[ -5.540222 , -20.295975 ],\n",
            "        [ -5.3314714, -17.927376 ],\n",
            "        [ -9.277018 , -16.801119 ]]], dtype=float32)>, <tf.Tensor: shape=(1, 3, 1), dtype=float32, numpy=\n",
            "array([[[0.],\n",
            "        [0.],\n",
            "        [1.]]], dtype=float32)>)\n"
          ]
        }
      ]
    },
    {
      "cell_type": "code",
      "source": [
        "# And the predictions of the model\n",
        "print(pred[0])"
      ],
      "metadata": {
        "colab": {
          "base_uri": "https://localhost:8080/"
        },
        "id": "aLMU4KRECms3",
        "outputId": "f5168869-4e85-4745-c95b-4a0e2aa88d64"
      },
      "execution_count": 42,
      "outputs": [
        {
          "output_type": "stream",
          "name": "stdout",
          "text": [
            "[0.5226961  0.49185935 0.55246365]\n"
          ]
        }
      ]
    },
    {
      "cell_type": "code",
      "source": [
        "# Time to save our model!\n",
        "modelDir = '/content/drive/MyDrive/RAMI_DL/mining_model'\n",
        "tf.keras.models.save_model(model, modelDir)"
      ],
      "metadata": {
        "colab": {
          "base_uri": "https://localhost:8080/"
        },
        "id": "wVYRhVN4CoSK",
        "outputId": "a21c26a3-e127-4ca2-87ff-0cc0763c7f1d"
      },
      "execution_count": 43,
      "outputs": [
        {
          "output_type": "stream",
          "name": "stderr",
          "text": [
            "WARNING:absl:Found untraced functions such as _update_step_xla while saving (showing 1 of 1). These functions will not be directly callable after loading.\n"
          ]
        }
      ]
    },
    {
      "cell_type": "code",
      "source": [
        "# We can see a resume of our small model\n",
        "model.summary()"
      ],
      "metadata": {
        "colab": {
          "base_uri": "https://localhost:8080/"
        },
        "id": "nNA3ywZ6C77o",
        "outputId": "ed246588-8766-447b-e1aa-e234fa8b2da1"
      },
      "execution_count": 44,
      "outputs": [
        {
          "output_type": "stream",
          "name": "stdout",
          "text": [
            "Model: \"lstmNet\"\n",
            "_________________________________________________________________\n",
            " Layer (type)                Output Shape              Param #   \n",
            "=================================================================\n",
            " array (InputLayer)          [(None, 3, 2)]            0         \n",
            "                                                                 \n",
            " lstm_layer_1 (LSTM)         (None, 3, 32)             4480      \n",
            "                                                                 \n",
            " lstm_layer_2 (LSTM)         (None, 32)                8320      \n",
            "                                                                 \n",
            " output_layer (Dense)        (None, 3)                 99        \n",
            "                                                                 \n",
            "=================================================================\n",
            "Total params: 12,899\n",
            "Trainable params: 12,899\n",
            "Non-trainable params: 0\n",
            "_________________________________________________________________\n"
          ]
        }
      ]
    },
    {
      "cell_type": "markdown",
      "source": [
        "## Model Application"
      ],
      "metadata": {
        "id": "B-xBAhamDgY3"
      }
    },
    {
      "cell_type": "code",
      "source": [
        "# We will calculate the amount of time it takes to run the model and define some parameters\n",
        "modelDir = '/content/drive/MyDrive/RAMI_DL/mining_model'\n",
        "img_path = '/content/drive/MyDrive/RAMI_DL/RAMI_DL_Img.tif'\n",
        "out_path = '/content/drive/MyDrive/RAMI_DL/RAMI_DL_Img_pred.tif'\n",
        "start = time.time()"
      ],
      "metadata": {
        "id": "QSlXWl5QHY4k"
      },
      "execution_count": 45,
      "outputs": []
    },
    {
      "cell_type": "code",
      "source": [
        "# We can load the model using the keras API\n",
        "loaded_model = tf.keras.models.load_model(modelDir)"
      ],
      "metadata": {
        "id": "L_MzpEiDC9_W"
      },
      "execution_count": 46,
      "outputs": []
    },
    {
      "cell_type": "code",
      "source": [
        "# Check the loaded model\n",
        "loaded_model.summary()"
      ],
      "metadata": {
        "colab": {
          "base_uri": "https://localhost:8080/"
        },
        "id": "enOospObHUMF",
        "outputId": "a9ffc602-874c-47bb-e789-c8299842f445"
      },
      "execution_count": 47,
      "outputs": [
        {
          "output_type": "stream",
          "name": "stdout",
          "text": [
            "Model: \"lstmNet\"\n",
            "_________________________________________________________________\n",
            " Layer (type)                Output Shape              Param #   \n",
            "=================================================================\n",
            " array (InputLayer)          [(None, 3, 2)]            0         \n",
            "                                                                 \n",
            " lstm_layer_1 (LSTM)         (None, 3, 32)             4480      \n",
            "                                                                 \n",
            " lstm_layer_2 (LSTM)         (None, 32)                8320      \n",
            "                                                                 \n",
            " output_layer (Dense)        (None, 3)                 99        \n",
            "                                                                 \n",
            "=================================================================\n",
            "Total params: 12,899\n",
            "Trainable params: 12,899\n",
            "Non-trainable params: 0\n",
            "_________________________________________________________________\n"
          ]
        }
      ]
    },
    {
      "cell_type": "code",
      "source": [
        "# Create a blank img, to store metadata and geocodify the predictions\n",
        "img = gdal.Open(img_path, gdal.GA_ReadOnly)"
      ],
      "metadata": {
        "id": "0syBCS5uHram"
      },
      "execution_count": 48,
      "outputs": []
    },
    {
      "cell_type": "code",
      "source": [
        "# Notice the shape of the original image\n",
        "print(img.ReadAsArray().shape)"
      ],
      "metadata": {
        "colab": {
          "base_uri": "https://localhost:8080/"
        },
        "id": "WbMWlDxyN89U",
        "outputId": "17988c3c-db51-4266-803a-e95304629012"
      },
      "execution_count": 49,
      "outputs": [
        {
          "output_type": "stream",
          "name": "stdout",
          "text": [
            "(6, 189, 265)\n"
          ]
        }
      ]
    },
    {
      "cell_type": "code",
      "source": [
        "# Load the image values as an array, then apply transpose\n",
        "img_array = img.ReadAsArray().transpose()"
      ],
      "metadata": {
        "id": "H8Kr_oEVHvJO"
      },
      "execution_count": 50,
      "outputs": []
    },
    {
      "cell_type": "code",
      "source": [
        "# Print the shape of the array\n",
        "print(img_array.shape)"
      ],
      "metadata": {
        "colab": {
          "base_uri": "https://localhost:8080/"
        },
        "id": "MAGV0NeOHwTm",
        "outputId": "c58fb935-1ad6-424c-ba67-0b7b59e5cfe4"
      },
      "execution_count": 51,
      "outputs": [
        {
          "output_type": "stream",
          "name": "stdout",
          "text": [
            "(265, 189, 6)\n"
          ]
        }
      ]
    },
    {
      "cell_type": "code",
      "source": [
        "# Reshape the image, to generate predictions, the shape should be batch, step, bands\n",
        "img_rdy = np.reshape(img_array, [img_array.shape[0] * img_array.shape[1], 3, 2])\n",
        "print(img_rdy.shape)"
      ],
      "metadata": {
        "colab": {
          "base_uri": "https://localhost:8080/"
        },
        "id": "4lIvqWlLHx6S",
        "outputId": "38f3c82e-b3f7-41cc-ac49-d4b6699b56a6"
      },
      "execution_count": 52,
      "outputs": [
        {
          "output_type": "stream",
          "name": "stdout",
          "text": [
            "(50085, 3, 2)\n"
          ]
        }
      ]
    },
    {
      "cell_type": "code",
      "source": [
        "# Apply the model on the processed array\n",
        "predictions = model.predict(img_rdy, verbose = 1)"
      ],
      "metadata": {
        "colab": {
          "base_uri": "https://localhost:8080/"
        },
        "id": "O8qyDVqEIFoq",
        "outputId": "ae554d6e-2c57-43e1-aba4-732b69e31f8b"
      },
      "execution_count": 53,
      "outputs": [
        {
          "output_type": "stream",
          "name": "stdout",
          "text": [
            "1566/1566 [==============================] - 4s 2ms/step\n"
          ]
        }
      ]
    },
    {
      "cell_type": "code",
      "source": [
        "# See the shape of our predictions\n",
        "print(predictions.shape)"
      ],
      "metadata": {
        "colab": {
          "base_uri": "https://localhost:8080/"
        },
        "id": "3RUhonKLILh9",
        "outputId": "e37b9858-fac4-4007-e254-3503b0ac548a"
      },
      "execution_count": 54,
      "outputs": [
        {
          "output_type": "stream",
          "name": "stdout",
          "text": [
            "(50085, 3)\n"
          ]
        }
      ]
    },
    {
      "cell_type": "code",
      "source": [
        "# The predictions must be reshaped to the same dimensions of the input image\n",
        "# Notice that GDAL reads data differently (bands, height, width), that's why we apply transpose\n",
        "final = np.reshape(predictions, [265, 189, 3]).transpose()\n",
        "print(final.shape)"
      ],
      "metadata": {
        "colab": {
          "base_uri": "https://localhost:8080/"
        },
        "id": "3qHZ906NIPb2",
        "outputId": "28b63370-e5ce-4dae-d8f9-8a19b2d4186b"
      },
      "execution_count": 55,
      "outputs": [
        {
          "output_type": "stream",
          "name": "stdout",
          "text": [
            "(3, 189, 265)\n"
          ]
        }
      ]
    },
    {
      "cell_type": "code",
      "source": [
        "# Now we will register a new image using GDAL\n",
        "driver = gdal.GetDriverByName('GTiff')\n",
        "driver.Register()\n",
        "\n",
        "# We'll use the shapes of the output\n",
        "outDataset = driver.Create(out_path, final.shape[2], final.shape[1], final.shape[0], gdal.GDT_Float32)\n",
        "outDataset.SetProjection(img.GetProjection())\n",
        "outDataset.SetGeoTransform(img.GetGeoTransform())\n",
        "outDataset.GetRasterBand(1).WriteArray(final[0, :, :], 0, 0)\n",
        "outDataset.GetRasterBand(2).WriteArray(final[1, :, :], 0, 0)\n",
        "outDataset.GetRasterBand(3).WriteArray(final[2, :, :], 0, 0)\n",
        "\n",
        "del outDataset"
      ],
      "metadata": {
        "id": "Fw-FJ24dIQjj"
      },
      "execution_count": 56,
      "outputs": []
    },
    {
      "cell_type": "code",
      "source": [
        "end = time.time()\n",
        "print('Duration (minutes): ', (end-start)/60)"
      ],
      "metadata": {
        "colab": {
          "base_uri": "https://localhost:8080/"
        },
        "id": "C41ZlKcDIrjF",
        "outputId": "6965b109-fd12-4eef-82f2-964411eeae4d"
      },
      "execution_count": 57,
      "outputs": [
        {
          "output_type": "stream",
          "name": "stdout",
          "text": [
            "Duration (minutes):  0.17834444443384806\n"
          ]
        }
      ]
    },
    {
      "cell_type": "markdown",
      "source": [
        "What are your results?\n",
        "\n",
        "<img src=\"https://raw.githubusercontent.com/SERVIR-Amazonia/Peru-tensorflow-training/main/notebooks/images/RAMI_results.PNG\" width=\"650px\">\n",
        "\n",
        "How can we interpretate our results?\n",
        "\n",
        "<img src=\"https://raw.githubusercontent.com/SERVIR-Amazonia/Peru-tensorflow-training/main/notebooks/images/RAMI_NICFI.PNG\" width=\"650px\">"
      ],
      "metadata": {
        "id": "OCfj8iI3J1tO"
      }
    }
  ]
}