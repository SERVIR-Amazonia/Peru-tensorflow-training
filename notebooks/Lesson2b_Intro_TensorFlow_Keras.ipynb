{
 "cells": [
  {
   "attachments": {},
   "cell_type": "markdown",
   "metadata": {},
   "source": [
    "# Introduction to TensorFlow 2 and Keras"
   ]
  },
  {
   "attachments": {},
   "cell_type": "markdown",
   "metadata": {},
   "source": [
    "## Objectives"
   ]
  },
  {
   "attachments": {},
   "cell_type": "markdown",
   "metadata": {},
   "source": [
    "The goal of this notebook is to teach some basics of the TensorFlow framework and the Keras API. "
   ]
  },
  {
   "attachments": {},
   "cell_type": "markdown",
   "metadata": {},
   "source": [
    "### What is TensorFlow?\n",
    "\n",
    "[TensorFlow](https://www.tensorflow.org/guide]) is an open-source framework developed in late 2015 by Google for building various machine learning and deep learning models. TensorFlow is free and open-source, thanks to the Apache Open Source license.\n",
    "\n",
    "The main objective of using TensorFlow is to reduce the complexity of implementing computations on large numerical data sets. In practice, these large computations can manifest as training and inference with machine learning or deep learning models.\n",
    "\n",
    "TensorFlow was designed to operate with multiple CPUs or GPUs, as well as a growing number of mobile operating systems. The framework includes wrappers in Python, C++, and Java.\n",
    "\n",
    ":::{figure-md} TFlogo\n",
    "<img src=\"images/TFops.png\" width=\"450px\">\n",
    "\n",
    "[Image source](https://github.com/deep-diver/mlops-hf-tf-vision-models)\n",
    ":::\n",
    "\n",
    "#### How does it work?\n",
    "TensorFlow accepts inputs as a n-dimensional array called a Tensor. These units can be used in quick, singular computations or in structured graphs. The framework was initially designed to support creation of a flowchart of operations (a graph) to be applied to input Tensors, which travel in one direction and out the other. Importantly, TensorFlow 2.0 introduced eager execution to the framework. Eager execution is based on the immediate evaluation of operations, as opposed to graph mode, in which operations are chained together and outputs are produced only when an input is passed through the whole graph. Thus, eager execution allows intermediate values to be returned from sequential operations. Stated otherwise, with eager execution, the values of tensors are calculated as they occur in your code.\n",
    "\n",
    "\n",
    "Eager execution does not build graphs, and the operations return actual values instead of computational graphs to run later. With Eager execution, TensorFlow calculates the values of tensors wherever they occur in a program. One benefit of eager execution is simplified debugging, as errors are easy to isolate when breaking down a program into executable components. Secondly, eager execution reduces boilerplate code as functions themselves are immediately callable and don’t have to be instantiated by sessions first. The third benefit worth mentioning is that eager execution is especially useful for rapid research and experimentation, as it allows for easy swapping of components without having to rewrite the entire graph.\n",
    "\n",
    "\n",
    "#### TensorFlow's structure\n",
    "There are five main components to TensorFlow's structure.\n",
    "1. [Preprocessing the data using tf.keras.preprocessing](https://www.tensorflow.org/api_docs/python/tf/keras/preprocessing)\n",
    "2. [Building the model using tf.keras.Model](https://www.tensorflow.org/api_docs/python/tf/keras/Model)\n",
    "3. [Training / estimating the model using tf.keras.Model.fit()](https://www.tensorflow.org/api_docs/python/tf/keras/Model#fit)\n",
    "4. [Evaluating the model using tf.keras.Model.evaluate()](https://www.tensorflow.org/api_docs/python/tf/keras/Model#evaluate)\n",
    "5. [Serving / distributing the model using TFServing](https://keras.io/examples/keras_recipes/tf_serving/)\n",
    "\n",
    "The name Tensorflow derives from the way in which the framework receives input in the form of a multi-dimensional array, i.e. the tensors. These tensors flow through TensorFlow operations (hence the framework's name), producing intermediate and output tensors.\n",
    "\n",
    "Outside of these five aforementioned components, there is a [plethora of utilities and extensions](https://www.tensorflow.org/resources/libraries-extensions) that enrich the TensorFlow ecosystem. Some noteworthy mentions include [TensorBoard](https://www.tensorflow.org/tensorboard) for model visualization and metrics logging, [TensorFlow Data Validation](https://www.tensorflow.org/tfx/guide/tfdv) for dataset inspection and statistics and [TensorFlow Datasets](https://www.tensorflow.org/datasets) which provides a catalog of pre-built datasets ready for machine learning.\n",
    "\n",
    "\n",
    "#### Why do so many people like TensorFlow?\n",
    "TensorFlow is intentionally user-friendly (especially since the integration of the Keras API), with helpful plugins to visualize model training and a useful software debugging tool. As well, TensorFlow is highly scalable, with easy deployment on both CPUs and GPUs."
   ]
  },
  {
   "attachments": {},
   "cell_type": "markdown",
   "metadata": {},
   "source": [
    "### What is Keras?\n",
    "\n",
    "[Keras](https://keras.io/about/) is an API built on Python which reduces the cognitive load associated with programming models through human readability and simple and consistent structures.\n",
    "\n",
    "Keras is what some might call a wrapper for TensorFlow. It is intended for rapid experimentation. Starting with TensorFlow 2.0, the Keras API was directly built into the TensorFlow framework (`tf.keras`) and henceforth recommended as the main interface for deep learning model development with the TensorFlow. This integration was originally distinct from the original Keras API, which was relatively framework-agnostic. In the `tf.keras` API, Keras abstraction is built directly upon TensorFlow low level protocols. The distinction in functionality between `tf.keras` and the Keras library is minimal when it comes to building Tensorflow programs. Recently, [Keras announced](https://keras.io/keras_core/announcement/) they are soon releasing a multi-framework release: Keras 3.0 in Fall 2023. This version will presumably make it easier to switch between Pytorch, Tensorflow and JAX backends for training deep learning models, and make it easier to convert models from one framework format to another.\n",
    "\n",
    "With `tf.keras`, we can address all components of a machine learning life cycle. This includes, model definition (architecture selection, network topology, activation function), model compilation (loss function, optimization function), model fitting a.k.a. training or estimation (set number of epochs, batch size), model evaluation (evaluation metric), model prediction (class label, numerical value, probability depending on domain).\n",
    "\n",
    "Tha main components of Keras include:\n",
    "1. [tf.keras.Model]((https://www.tensorflow.org/api_docs/python/tf/keras/Model)), used to execute the main steps in a modeling workflow, such as train and evaluate.\n",
    "2. [tf.keras.layers](https://www.tensorflow.org/api_docs/python/tf/keras/layers), used to define the tensor in/tensor out computation functions and network topology. With this API, we can construct models with varying levels of complexity. There are two main subclasses that factor into model design when working with the layers API:\n",
    "    a. the [tf.keras.Sequential](https://www.tensorflow.org/guide/keras/sequential_model), which we use when stacking layers to be executed sequentially and each layer has only one input tensor and one output tensor, and \n",
    "    b. the [tf.keras.Functional](https://www.tensorflow.org/guide/keras/functional_api) which is used for constructing networks with non-sequential topology (RNNs), layer reuse, and support for multiple inputs or outputs.\n",
    "\n",
    ":::{figure-md} Keras-functional\n",
    "<img src=\"images/Keras_functional_vs_sequential.png\" width=\"650px\">\n",
    "\n",
    "[Image source](https://stackoverflow.com/questions/58092176/keras-sequential-vs-functional-api-for-multi-task-learning-neural-network)\n",
    ":::\n",
    "\n",
    "3. [tf.keras.callbacks](https://www.tensorflow.org/api_docs/python/tf/keras/callbacks/Callback), used to program specific actions to occur during training, such as log training metrics, visualize interim/internal states and statistics of the model during training, and perform early stopping when the model converges.\n",
    "4. [tf.keras.preprocessing]((https://www.tensorflow.org/api_docs/python/tf/keras/preprocessing)), which offers support for prepping raw data from disk to model ready Tensor format.\n",
    "5. [tf.keras.optimizers](https://www.tensorflow.org/api_docs/python/tf/keras/optimizers) where all of the state of the art optimizers can be plugged in. Learning rate decay / scheduling can also be implemented as part of this API.\n",
    "6. [tf.keras.metrics](https://www.tensorflow.org/api_docs/python/tf/keras/metrics) which is used for assessing the performance of the model during training. A metric is the target to optimize during training, with specific metrics chosen for specific modeling objectives.\n",
    "7. [tf.keras.losses](https://www.tensorflow.org/api_docs/python/tf/keras/losses) that informs the model quantitatively how much it should try to minimize during training by providing a measure of error. Similar to metrics, specific loss functions are selected for specific modeling objectives.\n",
    "\n",
    "As an example using the `tf.keras.Functional`` API, our main workflow will follow the diagram below.\n",
    "\n",
    ":::{figure-md} Keras-functional\n",
    "<img src=\"images/Keras_functional_API.jpg\" width=\"650px\">\n",
    "\n",
    "Keras Functional API diagram (from [https://miro.com/app/board/o9J_lhnKhVE=/](hhttps://miro.com/app/board/o9J_lhnKhVE=/)).\n",
    ":::\n",
    "\n",
    "The main difference between the Sequential and Functional APIs for model definition are that the latter, albeit more complex, supports multiple input and output paths (e.g. a scalar and a matrix) as it requires explicit connection of layers together (i.e. if the input to layer `x` is layer `y` then that must be defined). The Sequential API in comparison assumes linear interaction between the stacked layers and thus that they all build from the initial input.\n",
    "\n",
    "### User notes\n",
    "\n",
    "- TensorFlow 2.x should be installed with a Python version no older than 3.6."
   ]
  }
 ],
 "metadata": {
  "kernelspec": {
   "display_name": "Python 3",
   "language": "python",
   "name": "python3"
  },
  "language_info": {
   "codemirror_mode": {
    "name": "ipython",
    "version": 3
   },
   "file_extension": ".py",
   "mimetype": "text/x-python",
   "name": "python",
   "nbconvert_exporter": "python",
   "pygments_lexer": "ipython3",
   "version": "3.8.11"
  }
 },
 "nbformat": 4,
 "nbformat_minor": 2
}
